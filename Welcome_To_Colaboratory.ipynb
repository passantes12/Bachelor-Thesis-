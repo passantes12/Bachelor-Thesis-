{
  "cells": [
    {
      "cell_type": "markdown",
      "metadata": {
        "id": "view-in-github",
        "colab_type": "text"
      },
      "source": [
        "<a href=\"https://colab.research.google.com/github/passantes12/Bachelor-Thesis-/blob/main/Welcome_To_Colaboratory.ipynb\" target=\"_parent\"><img src=\"https://colab.research.google.com/assets/colab-badge.svg\" alt=\"Open In Colab\"/></a>"
      ]
    },
    {
      "cell_type": "markdown",
      "source": [
        "# New Section"
      ],
      "metadata": {
        "id": "XHuLtm6sXOP1"
      }
    },
    {
      "cell_type": "code",
      "source": [
        "from google.colab import drive\n",
        "drive.mount('/content/drive')"
      ],
      "metadata": {
        "colab": {
          "base_uri": "https://localhost:8080/"
        },
        "id": "MzgDInMXbJQt",
        "outputId": "db960450-5655-401a-ba6f-34677e3a84ed"
      },
      "execution_count": null,
      "outputs": [
        {
          "output_type": "stream",
          "name": "stdout",
          "text": [
            "Mounted at /content/drive\n"
          ]
        }
      ]
    },
    {
      "cell_type": "code",
      "source": [
        "import pandas as pd\n",
        "from google.colab import files\n",
        "\n",
        "def merge_csv_files(csv_files, output_file):\n",
        "    # Initialize an empty DataFrame to store the merged data\n",
        "    merged_df = pd.DataFrame()\n",
        "\n",
        "    # Iterate over each uploaded CSV file and merge its data into the main DataFrame\n",
        "    for file_name in csv_files:\n",
        "        df = pd.read_csv(file_name)\n",
        "        merged_df = pd.concat([merged_df, df], ignore_index=True)\n",
        "\n",
        "    # Write the merged DataFrame to a new CSV file\n",
        "    merged_df.to_csv(output_file, index=False)\n",
        "    print(f\"Merged CSV files saved to {output_file}\")\n",
        "\n",
        "# Upload CSV files\n",
        "uploaded = files.upload()\n",
        "\n",
        "# Merge uploaded CSV files\n",
        "csv_files = [file_name for file_name in uploaded.keys()]\n",
        "output_file = 'merged_output.csv'\n",
        "merge_csv_files(csv_files, output_file)\n",
        "\n",
        "# Save merged file to Google Drive (optional)\n",
        "from google.colab import drive\n",
        "drive.mount('/content/drive')\n",
        "!cp merged_output.csv \"/content/drive/My Drive/\""
      ],
      "metadata": {
        "colab": {
          "base_uri": "https://localhost:8080/",
          "height": 314
        },
        "id": "SCQEUAJPM-Om",
        "outputId": "16f3d38f-b19a-451a-c2ec-0f6b46a7483b"
      },
      "execution_count": 3,
      "outputs": [
        {
          "output_type": "display_data",
          "data": {
            "text/plain": [
              "<IPython.core.display.HTML object>"
            ],
            "text/html": [
              "\n",
              "     <input type=\"file\" id=\"files-a7fcfee6-c818-4244-84ba-46c18117d902\" name=\"files[]\" multiple disabled\n",
              "        style=\"border:none\" />\n",
              "     <output id=\"result-a7fcfee6-c818-4244-84ba-46c18117d902\">\n",
              "      Upload widget is only available when the cell has been executed in the\n",
              "      current browser session. Please rerun this cell to enable.\n",
              "      </output>\n",
              "      <script>// Copyright 2017 Google LLC\n",
              "//\n",
              "// Licensed under the Apache License, Version 2.0 (the \"License\");\n",
              "// you may not use this file except in compliance with the License.\n",
              "// You may obtain a copy of the License at\n",
              "//\n",
              "//      http://www.apache.org/licenses/LICENSE-2.0\n",
              "//\n",
              "// Unless required by applicable law or agreed to in writing, software\n",
              "// distributed under the License is distributed on an \"AS IS\" BASIS,\n",
              "// WITHOUT WARRANTIES OR CONDITIONS OF ANY KIND, either express or implied.\n",
              "// See the License for the specific language governing permissions and\n",
              "// limitations under the License.\n",
              "\n",
              "/**\n",
              " * @fileoverview Helpers for google.colab Python module.\n",
              " */\n",
              "(function(scope) {\n",
              "function span(text, styleAttributes = {}) {\n",
              "  const element = document.createElement('span');\n",
              "  element.textContent = text;\n",
              "  for (const key of Object.keys(styleAttributes)) {\n",
              "    element.style[key] = styleAttributes[key];\n",
              "  }\n",
              "  return element;\n",
              "}\n",
              "\n",
              "// Max number of bytes which will be uploaded at a time.\n",
              "const MAX_PAYLOAD_SIZE = 100 * 1024;\n",
              "\n",
              "function _uploadFiles(inputId, outputId) {\n",
              "  const steps = uploadFilesStep(inputId, outputId);\n",
              "  const outputElement = document.getElementById(outputId);\n",
              "  // Cache steps on the outputElement to make it available for the next call\n",
              "  // to uploadFilesContinue from Python.\n",
              "  outputElement.steps = steps;\n",
              "\n",
              "  return _uploadFilesContinue(outputId);\n",
              "}\n",
              "\n",
              "// This is roughly an async generator (not supported in the browser yet),\n",
              "// where there are multiple asynchronous steps and the Python side is going\n",
              "// to poll for completion of each step.\n",
              "// This uses a Promise to block the python side on completion of each step,\n",
              "// then passes the result of the previous step as the input to the next step.\n",
              "function _uploadFilesContinue(outputId) {\n",
              "  const outputElement = document.getElementById(outputId);\n",
              "  const steps = outputElement.steps;\n",
              "\n",
              "  const next = steps.next(outputElement.lastPromiseValue);\n",
              "  return Promise.resolve(next.value.promise).then((value) => {\n",
              "    // Cache the last promise value to make it available to the next\n",
              "    // step of the generator.\n",
              "    outputElement.lastPromiseValue = value;\n",
              "    return next.value.response;\n",
              "  });\n",
              "}\n",
              "\n",
              "/**\n",
              " * Generator function which is called between each async step of the upload\n",
              " * process.\n",
              " * @param {string} inputId Element ID of the input file picker element.\n",
              " * @param {string} outputId Element ID of the output display.\n",
              " * @return {!Iterable<!Object>} Iterable of next steps.\n",
              " */\n",
              "function* uploadFilesStep(inputId, outputId) {\n",
              "  const inputElement = document.getElementById(inputId);\n",
              "  inputElement.disabled = false;\n",
              "\n",
              "  const outputElement = document.getElementById(outputId);\n",
              "  outputElement.innerHTML = '';\n",
              "\n",
              "  const pickedPromise = new Promise((resolve) => {\n",
              "    inputElement.addEventListener('change', (e) => {\n",
              "      resolve(e.target.files);\n",
              "    });\n",
              "  });\n",
              "\n",
              "  const cancel = document.createElement('button');\n",
              "  inputElement.parentElement.appendChild(cancel);\n",
              "  cancel.textContent = 'Cancel upload';\n",
              "  const cancelPromise = new Promise((resolve) => {\n",
              "    cancel.onclick = () => {\n",
              "      resolve(null);\n",
              "    };\n",
              "  });\n",
              "\n",
              "  // Wait for the user to pick the files.\n",
              "  const files = yield {\n",
              "    promise: Promise.race([pickedPromise, cancelPromise]),\n",
              "    response: {\n",
              "      action: 'starting',\n",
              "    }\n",
              "  };\n",
              "\n",
              "  cancel.remove();\n",
              "\n",
              "  // Disable the input element since further picks are not allowed.\n",
              "  inputElement.disabled = true;\n",
              "\n",
              "  if (!files) {\n",
              "    return {\n",
              "      response: {\n",
              "        action: 'complete',\n",
              "      }\n",
              "    };\n",
              "  }\n",
              "\n",
              "  for (const file of files) {\n",
              "    const li = document.createElement('li');\n",
              "    li.append(span(file.name, {fontWeight: 'bold'}));\n",
              "    li.append(span(\n",
              "        `(${file.type || 'n/a'}) - ${file.size} bytes, ` +\n",
              "        `last modified: ${\n",
              "            file.lastModifiedDate ? file.lastModifiedDate.toLocaleDateString() :\n",
              "                                    'n/a'} - `));\n",
              "    const percent = span('0% done');\n",
              "    li.appendChild(percent);\n",
              "\n",
              "    outputElement.appendChild(li);\n",
              "\n",
              "    const fileDataPromise = new Promise((resolve) => {\n",
              "      const reader = new FileReader();\n",
              "      reader.onload = (e) => {\n",
              "        resolve(e.target.result);\n",
              "      };\n",
              "      reader.readAsArrayBuffer(file);\n",
              "    });\n",
              "    // Wait for the data to be ready.\n",
              "    let fileData = yield {\n",
              "      promise: fileDataPromise,\n",
              "      response: {\n",
              "        action: 'continue',\n",
              "      }\n",
              "    };\n",
              "\n",
              "    // Use a chunked sending to avoid message size limits. See b/62115660.\n",
              "    let position = 0;\n",
              "    do {\n",
              "      const length = Math.min(fileData.byteLength - position, MAX_PAYLOAD_SIZE);\n",
              "      const chunk = new Uint8Array(fileData, position, length);\n",
              "      position += length;\n",
              "\n",
              "      const base64 = btoa(String.fromCharCode.apply(null, chunk));\n",
              "      yield {\n",
              "        response: {\n",
              "          action: 'append',\n",
              "          file: file.name,\n",
              "          data: base64,\n",
              "        },\n",
              "      };\n",
              "\n",
              "      let percentDone = fileData.byteLength === 0 ?\n",
              "          100 :\n",
              "          Math.round((position / fileData.byteLength) * 100);\n",
              "      percent.textContent = `${percentDone}% done`;\n",
              "\n",
              "    } while (position < fileData.byteLength);\n",
              "  }\n",
              "\n",
              "  // All done.\n",
              "  yield {\n",
              "    response: {\n",
              "      action: 'complete',\n",
              "    }\n",
              "  };\n",
              "}\n",
              "\n",
              "scope.google = scope.google || {};\n",
              "scope.google.colab = scope.google.colab || {};\n",
              "scope.google.colab._files = {\n",
              "  _uploadFiles,\n",
              "  _uploadFilesContinue,\n",
              "};\n",
              "})(self);\n",
              "</script> "
            ]
          },
          "metadata": {}
        },
        {
          "output_type": "stream",
          "name": "stdout",
          "text": [
            "Saving holidays_events.csv to holidays_events.csv\n",
            "Saving oil.csv to oil.csv\n",
            "Saving sample_submission.csv to sample_submission.csv\n",
            "Saving stores.csv to stores.csv\n",
            "Saving test.csv to test.csv\n",
            "Saving train.csv to train.csv\n",
            "Saving transactions.csv to transactions.csv\n",
            "Merged CSV files saved to merged_output.csv\n",
            "Drive already mounted at /content/drive; to attempt to forcibly remount, call drive.mount(\"/content/drive\", force_remount=True).\n"
          ]
        }
      ]
    },
    {
      "cell_type": "code",
      "source": [],
      "metadata": {
        "id": "HqyMTbnSM9wX"
      },
      "execution_count": null,
      "outputs": []
    },
    {
      "cell_type": "code",
      "source": [
        "import pandas as pd\n",
        "\n",
        "# Load the merged DataFrame from the saved CSV file\n",
        "merged_df = pd.read_csv('merged_output.csv')\n",
        "\n",
        "# Print the entire DataFrame\n",
        "print(merged_df)"
      ],
      "metadata": {
        "colab": {
          "base_uri": "https://localhost:8080/"
        },
        "id": "lYla9aRocjwR",
        "outputId": "b7072e56-bb2d-41a3-d66f-fb4935b8a93a"
      },
      "execution_count": 4,
      "outputs": [
        {
          "output_type": "stream",
          "name": "stderr",
          "text": [
            "<ipython-input-4-83df81da196a>:4: DtypeWarning: Columns (1,2,3,4,5,10,11,13) have mixed types. Specify dtype option on import or set low_memory=False.\n",
            "  merged_df = pd.read_csv('merged_output.csv')\n"
          ]
        },
        {
          "output_type": "stream",
          "name": "stdout",
          "text": [
            "               date     type    locale locale_name  \\\n",
            "0        2012-03-02  Holiday     Local       Manta   \n",
            "1        2012-04-01  Holiday  Regional    Cotopaxi   \n",
            "2        2012-04-12  Holiday     Local      Cuenca   \n",
            "3        2012-04-14  Holiday     Local    Libertad   \n",
            "4        2012-04-21  Holiday     Local    Riobamba   \n",
            "...             ...      ...       ...         ...   \n",
            "3143017  2017-08-15      NaN       NaN         NaN   \n",
            "3143018  2017-08-15      NaN       NaN         NaN   \n",
            "3143019  2017-08-15      NaN       NaN         NaN   \n",
            "3143020  2017-08-15      NaN       NaN         NaN   \n",
            "3143021  2017-08-15      NaN       NaN         NaN   \n",
            "\n",
            "                           description transferred  dcoilwtico  id  sales  \\\n",
            "0                   Fundacion de Manta       False         NaN NaN    NaN   \n",
            "1        Provincializacion de Cotopaxi       False         NaN NaN    NaN   \n",
            "2                  Fundacion de Cuenca       False         NaN NaN    NaN   \n",
            "3            Cantonizacion de Libertad       False         NaN NaN    NaN   \n",
            "4            Cantonizacion de Riobamba       False         NaN NaN    NaN   \n",
            "...                                ...         ...         ...  ..    ...   \n",
            "3143017                            NaN         NaN         NaN NaN    NaN   \n",
            "3143018                            NaN         NaN         NaN NaN    NaN   \n",
            "3143019                            NaN         NaN         NaN NaN    NaN   \n",
            "3143020                            NaN         NaN         NaN NaN    NaN   \n",
            "3143021                            NaN         NaN         NaN NaN    NaN   \n",
            "\n",
            "         store_nbr city state  cluster family  onpromotion  transactions  \n",
            "0              NaN  NaN   NaN      NaN    NaN          NaN           NaN  \n",
            "1              NaN  NaN   NaN      NaN    NaN          NaN           NaN  \n",
            "2              NaN  NaN   NaN      NaN    NaN          NaN           NaN  \n",
            "3              NaN  NaN   NaN      NaN    NaN          NaN           NaN  \n",
            "4              NaN  NaN   NaN      NaN    NaN          NaN           NaN  \n",
            "...            ...  ...   ...      ...    ...          ...           ...  \n",
            "3143017       50.0  NaN   NaN      NaN    NaN          NaN        2804.0  \n",
            "3143018       51.0  NaN   NaN      NaN    NaN          NaN        1573.0  \n",
            "3143019       52.0  NaN   NaN      NaN    NaN          NaN        2255.0  \n",
            "3143020       53.0  NaN   NaN      NaN    NaN          NaN         932.0  \n",
            "3143021       54.0  NaN   NaN      NaN    NaN          NaN         802.0  \n",
            "\n",
            "[3143022 rows x 16 columns]\n"
          ]
        }
      ]
    },
    {
      "cell_type": "code",
      "source": [
        "# Importing necessary libraries\n",
        "import pandas as pd\n",
        "\n",
        "# Load the datasets (replace 'dataset.csv' with your actual dataset file)\n",
        "data = pd.read_csv('merged_output.csv')\n",
        "\n",
        "# Check data types of each column\n",
        "print(\"Data Types:\")\n",
        "print(data.dtypes)\n",
        "\n",
        "# Check dimensions of the dataset\n",
        "print(\"\\nDimensions (Rows, Columns):\")\n",
        "print(data.shape)\n",
        "\n",
        "# Check for missing values\n",
        "print(\"\\nMissing Values:\")\n",
        "print(data.isnull().sum())"
      ],
      "metadata": {
        "id": "9AGQcFqJcyUq",
        "outputId": "43dd97c4-a021-4130-abd2-8a174a30f185",
        "colab": {
          "base_uri": "https://localhost:8080/"
        }
      },
      "execution_count": 7,
      "outputs": [
        {
          "output_type": "stream",
          "name": "stderr",
          "text": [
            "<ipython-input-7-cbfbc14b1f97>:5: DtypeWarning: Columns (1,2,3,4,5,10,11,13) have mixed types. Specify dtype option on import or set low_memory=False.\n",
            "  data = pd.read_csv('merged_output.csv')\n"
          ]
        },
        {
          "output_type": "stream",
          "name": "stdout",
          "text": [
            "Data Types:\n",
            "date             object\n",
            "type             object\n",
            "locale           object\n",
            "locale_name      object\n",
            "description      object\n",
            "transferred      object\n",
            "dcoilwtico      float64\n",
            "id              float64\n",
            "sales           float64\n",
            "store_nbr       float64\n",
            "city             object\n",
            "state            object\n",
            "cluster         float64\n",
            "family           object\n",
            "onpromotion     float64\n",
            "transactions    float64\n",
            "dtype: object\n",
            "\n",
            "Dimensions (Rows, Columns):\n",
            "(3143022, 16)\n",
            "\n",
            "Missing Values:\n",
            "date              28566\n",
            "type            3142618\n",
            "locale          3142672\n",
            "locale_name     3142672\n",
            "description     3142672\n",
            "transferred     3142672\n",
            "dcoilwtico      3141847\n",
            "id                85110\n",
            "sales            113622\n",
            "store_nbr         30080\n",
            "city            3142968\n",
            "state           3142968\n",
            "cluster         3142968\n",
            "family           113622\n",
            "onpromotion      113622\n",
            "transactions    3059534\n",
            "dtype: int64\n"
          ]
        }
      ]
    }
  ],
  "metadata": {
    "colab": {
      "name": "Welcome To Colaboratory",
      "provenance": [],
      "include_colab_link": true
    },
    "kernelspec": {
      "display_name": "Python 3",
      "name": "python3"
    }
  },
  "nbformat": 4,
  "nbformat_minor": 0
}